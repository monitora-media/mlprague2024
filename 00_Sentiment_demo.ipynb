{
  "nbformat": 4,
  "nbformat_minor": 0,
  "metadata": {
    "colab": {
      "provenance": [],
      "gpuType": "T4",
      "authorship_tag": "ABX9TyPj+621WDo6p2r5mRPzHnqk",
      "include_colab_link": true
    },
    "kernelspec": {
      "name": "python3",
      "display_name": "Python 3"
    },
    "language_info": {
      "name": "python"
    },
    "accelerator": "GPU"
  },
  "cells": [
    {
      "cell_type": "markdown",
      "metadata": {
        "id": "view-in-github",
        "colab_type": "text"
      },
      "source": [
        "<a href=\"https://colab.research.google.com/github/simecek/mlprague2024/blob/main/00_Sentiment_demo.ipynb\" target=\"_parent\"><img src=\"https://colab.research.google.com/assets/colab-badge.svg\" alt=\"Open In Colab\"/></a>"
      ]
    },
    {
      "cell_type": "markdown",
      "source": [
        "# Exercise 0  \n",
        "We will use Google Colab for the exercises. Ensure that you can connect to Google Colab and access the GPU.\n",
        "\n",
        "Translate the sentences \"I love you\" and \"I hate you\" into your language. The model `bhadresh-savani/distilbert-base-uncased-sentiment-sst2` is trained on English; therefore, try to find an alternative model on the [HuggingFace 🤗 hub](https://huggingface.co/models) that is either directly trained in your language or is multilingual. Experiment a bit."
      ],
      "metadata": {
        "id": "Vx4geAItLaGQ"
      }
    },
    {
      "cell_type": "code",
      "source": [
        "from transformers import pipeline\n",
        "\n",
        "MODEL = \"bhadresh-savani/distilbert-base-uncased-sentiment-sst2\""
      ],
      "metadata": {
        "id": "VCOZAkuYo5PB"
      },
      "execution_count": null,
      "outputs": []
    },
    {
      "cell_type": "code",
      "source": [
        "sentiment_classifier = pipeline(\n",
        "    model=MODEL\n",
        ")"
      ],
      "metadata": {
        "id": "46jssKQpo7SB"
      },
      "execution_count": null,
      "outputs": []
    },
    {
      "cell_type": "code",
      "source": [
        "inputs = ['I love you', 'I hate you']\n",
        "\n",
        "sentiment_classifier(inputs)"
      ],
      "metadata": {
        "colab": {
          "base_uri": "https://localhost:8080/"
        },
        "id": "IIaTQJtipUD6",
        "outputId": "4e1a3f07-d1b5-4c3e-a7da-16007d87158a"
      },
      "execution_count": null,
      "outputs": [
        {
          "output_type": "execute_result",
          "data": {
            "text/plain": [
              "[[{'label': 'POSITIVE', 'score': 0.9994997978210449},\n",
              "  {'label': 'NEGATIVE', 'score': 0.0005002171383239329}],\n",
              " [{'label': 'NEGATIVE', 'score': 0.9936959147453308},\n",
              "  {'label': 'POSITIVE', 'score': 0.00630411971360445}]]"
            ]
          },
          "metadata": {},
          "execution_count": 10
        }
      ]
    }
  ]
}