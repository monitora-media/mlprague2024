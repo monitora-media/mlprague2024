{
  "nbformat": 4,
  "nbformat_minor": 0,
  "metadata": {
    "colab": {
      "provenance": [],
      "authorship_tag": "ABX9TyPIdb35xNh0jpsyijfMsEJU",
      "include_colab_link": true
    },
    "kernelspec": {
      "name": "python3",
      "display_name": "Python 3"
    },
    "language_info": {
      "name": "python"
    },
    "widgets": {
      "application/vnd.jupyter.widget-state+json": {
        "828b2460d6224e05a20c61f609a28e63": {
          "model_module": "@jupyter-widgets/controls",
          "model_name": "HBoxModel",
          "model_module_version": "1.5.0",
          "state": {
            "_dom_classes": [],
            "_model_module": "@jupyter-widgets/controls",
            "_model_module_version": "1.5.0",
            "_model_name": "HBoxModel",
            "_view_count": null,
            "_view_module": "@jupyter-widgets/controls",
            "_view_module_version": "1.5.0",
            "_view_name": "HBoxView",
            "box_style": "",
            "children": [
              "IPY_MODEL_0e476df68fc34e84b8203946ffe53dbd",
              "IPY_MODEL_71f23228a9714066991d63efcf9ebf57",
              "IPY_MODEL_ae7d1898459342828bda1d477e41762d"
            ],
            "layout": "IPY_MODEL_1d16f75935ea4c219e7f55c85a8e244d"
          }
        },
        "0e476df68fc34e84b8203946ffe53dbd": {
          "model_module": "@jupyter-widgets/controls",
          "model_name": "HTMLModel",
          "model_module_version": "1.5.0",
          "state": {
            "_dom_classes": [],
            "_model_module": "@jupyter-widgets/controls",
            "_model_module_version": "1.5.0",
            "_model_name": "HTMLModel",
            "_view_count": null,
            "_view_module": "@jupyter-widgets/controls",
            "_view_module_version": "1.5.0",
            "_view_name": "HTMLView",
            "description": "",
            "description_tooltip": null,
            "layout": "IPY_MODEL_c37200a1d2474853aae9fc31fd247291",
            "placeholder": "​",
            "style": "IPY_MODEL_7016a5c13f9247d2a5817daecf291033",
            "value": "100%"
          }
        },
        "71f23228a9714066991d63efcf9ebf57": {
          "model_module": "@jupyter-widgets/controls",
          "model_name": "FloatProgressModel",
          "model_module_version": "1.5.0",
          "state": {
            "_dom_classes": [],
            "_model_module": "@jupyter-widgets/controls",
            "_model_module_version": "1.5.0",
            "_model_name": "FloatProgressModel",
            "_view_count": null,
            "_view_module": "@jupyter-widgets/controls",
            "_view_module_version": "1.5.0",
            "_view_name": "ProgressView",
            "bar_style": "success",
            "description": "",
            "description_tooltip": null,
            "layout": "IPY_MODEL_aa0cdbfce13c490494fd097f6bb09341",
            "max": 50,
            "min": 0,
            "orientation": "horizontal",
            "style": "IPY_MODEL_0a7328175015404382d2bc4eddf474da",
            "value": 50
          }
        },
        "ae7d1898459342828bda1d477e41762d": {
          "model_module": "@jupyter-widgets/controls",
          "model_name": "HTMLModel",
          "model_module_version": "1.5.0",
          "state": {
            "_dom_classes": [],
            "_model_module": "@jupyter-widgets/controls",
            "_model_module_version": "1.5.0",
            "_model_name": "HTMLModel",
            "_view_count": null,
            "_view_module": "@jupyter-widgets/controls",
            "_view_module_version": "1.5.0",
            "_view_name": "HTMLView",
            "description": "",
            "description_tooltip": null,
            "layout": "IPY_MODEL_132ebc069c774ee8aed2891834c4baa3",
            "placeholder": "​",
            "style": "IPY_MODEL_cb6d03feefae44c8b1543ff5fbbb1f9d",
            "value": " 50/50 [00:24&lt;00:00,  2.05it/s]"
          }
        },
        "1d16f75935ea4c219e7f55c85a8e244d": {
          "model_module": "@jupyter-widgets/base",
          "model_name": "LayoutModel",
          "model_module_version": "1.2.0",
          "state": {
            "_model_module": "@jupyter-widgets/base",
            "_model_module_version": "1.2.0",
            "_model_name": "LayoutModel",
            "_view_count": null,
            "_view_module": "@jupyter-widgets/base",
            "_view_module_version": "1.2.0",
            "_view_name": "LayoutView",
            "align_content": null,
            "align_items": null,
            "align_self": null,
            "border": null,
            "bottom": null,
            "display": null,
            "flex": null,
            "flex_flow": null,
            "grid_area": null,
            "grid_auto_columns": null,
            "grid_auto_flow": null,
            "grid_auto_rows": null,
            "grid_column": null,
            "grid_gap": null,
            "grid_row": null,
            "grid_template_areas": null,
            "grid_template_columns": null,
            "grid_template_rows": null,
            "height": null,
            "justify_content": null,
            "justify_items": null,
            "left": null,
            "margin": null,
            "max_height": null,
            "max_width": null,
            "min_height": null,
            "min_width": null,
            "object_fit": null,
            "object_position": null,
            "order": null,
            "overflow": null,
            "overflow_x": null,
            "overflow_y": null,
            "padding": null,
            "right": null,
            "top": null,
            "visibility": null,
            "width": null
          }
        },
        "c37200a1d2474853aae9fc31fd247291": {
          "model_module": "@jupyter-widgets/base",
          "model_name": "LayoutModel",
          "model_module_version": "1.2.0",
          "state": {
            "_model_module": "@jupyter-widgets/base",
            "_model_module_version": "1.2.0",
            "_model_name": "LayoutModel",
            "_view_count": null,
            "_view_module": "@jupyter-widgets/base",
            "_view_module_version": "1.2.0",
            "_view_name": "LayoutView",
            "align_content": null,
            "align_items": null,
            "align_self": null,
            "border": null,
            "bottom": null,
            "display": null,
            "flex": null,
            "flex_flow": null,
            "grid_area": null,
            "grid_auto_columns": null,
            "grid_auto_flow": null,
            "grid_auto_rows": null,
            "grid_column": null,
            "grid_gap": null,
            "grid_row": null,
            "grid_template_areas": null,
            "grid_template_columns": null,
            "grid_template_rows": null,
            "height": null,
            "justify_content": null,
            "justify_items": null,
            "left": null,
            "margin": null,
            "max_height": null,
            "max_width": null,
            "min_height": null,
            "min_width": null,
            "object_fit": null,
            "object_position": null,
            "order": null,
            "overflow": null,
            "overflow_x": null,
            "overflow_y": null,
            "padding": null,
            "right": null,
            "top": null,
            "visibility": null,
            "width": null
          }
        },
        "7016a5c13f9247d2a5817daecf291033": {
          "model_module": "@jupyter-widgets/controls",
          "model_name": "DescriptionStyleModel",
          "model_module_version": "1.5.0",
          "state": {
            "_model_module": "@jupyter-widgets/controls",
            "_model_module_version": "1.5.0",
            "_model_name": "DescriptionStyleModel",
            "_view_count": null,
            "_view_module": "@jupyter-widgets/base",
            "_view_module_version": "1.2.0",
            "_view_name": "StyleView",
            "description_width": ""
          }
        },
        "aa0cdbfce13c490494fd097f6bb09341": {
          "model_module": "@jupyter-widgets/base",
          "model_name": "LayoutModel",
          "model_module_version": "1.2.0",
          "state": {
            "_model_module": "@jupyter-widgets/base",
            "_model_module_version": "1.2.0",
            "_model_name": "LayoutModel",
            "_view_count": null,
            "_view_module": "@jupyter-widgets/base",
            "_view_module_version": "1.2.0",
            "_view_name": "LayoutView",
            "align_content": null,
            "align_items": null,
            "align_self": null,
            "border": null,
            "bottom": null,
            "display": null,
            "flex": null,
            "flex_flow": null,
            "grid_area": null,
            "grid_auto_columns": null,
            "grid_auto_flow": null,
            "grid_auto_rows": null,
            "grid_column": null,
            "grid_gap": null,
            "grid_row": null,
            "grid_template_areas": null,
            "grid_template_columns": null,
            "grid_template_rows": null,
            "height": null,
            "justify_content": null,
            "justify_items": null,
            "left": null,
            "margin": null,
            "max_height": null,
            "max_width": null,
            "min_height": null,
            "min_width": null,
            "object_fit": null,
            "object_position": null,
            "order": null,
            "overflow": null,
            "overflow_x": null,
            "overflow_y": null,
            "padding": null,
            "right": null,
            "top": null,
            "visibility": null,
            "width": null
          }
        },
        "0a7328175015404382d2bc4eddf474da": {
          "model_module": "@jupyter-widgets/controls",
          "model_name": "ProgressStyleModel",
          "model_module_version": "1.5.0",
          "state": {
            "_model_module": "@jupyter-widgets/controls",
            "_model_module_version": "1.5.0",
            "_model_name": "ProgressStyleModel",
            "_view_count": null,
            "_view_module": "@jupyter-widgets/base",
            "_view_module_version": "1.2.0",
            "_view_name": "StyleView",
            "bar_color": null,
            "description_width": ""
          }
        },
        "132ebc069c774ee8aed2891834c4baa3": {
          "model_module": "@jupyter-widgets/base",
          "model_name": "LayoutModel",
          "model_module_version": "1.2.0",
          "state": {
            "_model_module": "@jupyter-widgets/base",
            "_model_module_version": "1.2.0",
            "_model_name": "LayoutModel",
            "_view_count": null,
            "_view_module": "@jupyter-widgets/base",
            "_view_module_version": "1.2.0",
            "_view_name": "LayoutView",
            "align_content": null,
            "align_items": null,
            "align_self": null,
            "border": null,
            "bottom": null,
            "display": null,
            "flex": null,
            "flex_flow": null,
            "grid_area": null,
            "grid_auto_columns": null,
            "grid_auto_flow": null,
            "grid_auto_rows": null,
            "grid_column": null,
            "grid_gap": null,
            "grid_row": null,
            "grid_template_areas": null,
            "grid_template_columns": null,
            "grid_template_rows": null,
            "height": null,
            "justify_content": null,
            "justify_items": null,
            "left": null,
            "margin": null,
            "max_height": null,
            "max_width": null,
            "min_height": null,
            "min_width": null,
            "object_fit": null,
            "object_position": null,
            "order": null,
            "overflow": null,
            "overflow_x": null,
            "overflow_y": null,
            "padding": null,
            "right": null,
            "top": null,
            "visibility": null,
            "width": null
          }
        },
        "cb6d03feefae44c8b1543ff5fbbb1f9d": {
          "model_module": "@jupyter-widgets/controls",
          "model_name": "DescriptionStyleModel",
          "model_module_version": "1.5.0",
          "state": {
            "_model_module": "@jupyter-widgets/controls",
            "_model_module_version": "1.5.0",
            "_model_name": "DescriptionStyleModel",
            "_view_count": null,
            "_view_module": "@jupyter-widgets/base",
            "_view_module_version": "1.2.0",
            "_view_name": "StyleView",
            "description_width": ""
          }
        }
      }
    }
  },
  "cells": [
    {
      "cell_type": "markdown",
      "metadata": {
        "id": "view-in-github",
        "colab_type": "text"
      },
      "source": [
        "<a href=\"https://colab.research.google.com/github/simecek/mlprague2024/blob/main/04_ChatGPT_API.ipynb\" target=\"_parent\"><img src=\"https://colab.research.google.com/assets/colab-badge.svg\" alt=\"Open In Colab\"/></a>"
      ]
    },
    {
      "cell_type": "markdown",
      "source": [
        "# Exercise 4\n",
        "\n",
        "Before delving into open models, let's explore the capabilities of [ChatGPT](https://platform.openai.com/docs/api-reference)!\n",
        "\n",
        "You can use either a small benchmark of 50 Czech multiple-choice questions, [synczech50](https://huggingface.co/datasets/simecek/synczech50), or a sample of 50 questions from our benchmark, [mlprague](https://huggingface.co/datasets/simecek/mlprague). You may want to modify the text template in `get_prompt` to see how it influences the results.\n",
        "\n",
        "Please use the API responsibly, as we all share the key. If someone changes the model settings or runs many parallel jobs, we are likely to hit the limit.\n"
      ],
      "metadata": {
        "id": "ATxlcgFXV8S3"
      }
    },
    {
      "cell_type": "code",
      "source": [
        "!pip install -qq datasets openai"
      ],
      "metadata": {
        "colab": {
          "base_uri": "https://localhost:8080/"
        },
        "id": "AC_rNoADzBHZ",
        "outputId": "a4398b24-e839-40f1-8daa-6e30fd150903"
      },
      "execution_count": 1,
      "outputs": [
        {
          "output_type": "stream",
          "name": "stdout",
          "text": [
            "\u001b[2K     \u001b[90m━━━━━━━━━━━━━━━━━━━━━━━━━━━━━━━━━━━━━━━━\u001b[0m \u001b[32m542.0/542.0 kB\u001b[0m \u001b[31m2.8 MB/s\u001b[0m eta \u001b[36m0:00:00\u001b[0m\n",
            "\u001b[2K     \u001b[90m━━━━━━━━━━━━━━━━━━━━━━━━━━━━━━━━━━━━━━━━\u001b[0m \u001b[32m311.2/311.2 kB\u001b[0m \u001b[31m15.8 MB/s\u001b[0m eta \u001b[36m0:00:00\u001b[0m\n",
            "\u001b[2K     \u001b[90m━━━━━━━━━━━━━━━━━━━━━━━━━━━━━━━━━━━━━━━━\u001b[0m \u001b[32m116.3/116.3 kB\u001b[0m \u001b[31m9.1 MB/s\u001b[0m eta \u001b[36m0:00:00\u001b[0m\n",
            "\u001b[2K     \u001b[90m━━━━━━━━━━━━━━━━━━━━━━━━━━━━━━━━━━━━━━━━\u001b[0m \u001b[32m194.1/194.1 kB\u001b[0m \u001b[31m10.7 MB/s\u001b[0m eta \u001b[36m0:00:00\u001b[0m\n",
            "\u001b[2K     \u001b[90m━━━━━━━━━━━━━━━━━━━━━━━━━━━━━━━━━━━━━━━━\u001b[0m \u001b[32m134.8/134.8 kB\u001b[0m \u001b[31m10.6 MB/s\u001b[0m eta \u001b[36m0:00:00\u001b[0m\n",
            "\u001b[2K     \u001b[90m━━━━━━━━━━━━━━━━━━━━━━━━━━━━━━━━━━━━━━━━\u001b[0m \u001b[32m388.9/388.9 kB\u001b[0m \u001b[31m15.0 MB/s\u001b[0m eta \u001b[36m0:00:00\u001b[0m\n",
            "\u001b[2K     \u001b[90m━━━━━━━━━━━━━━━━━━━━━━━━━━━━━━━━━━━━━━━━\u001b[0m \u001b[32m75.6/75.6 kB\u001b[0m \u001b[31m8.4 MB/s\u001b[0m eta \u001b[36m0:00:00\u001b[0m\n",
            "\u001b[2K     \u001b[90m━━━━━━━━━━━━━━━━━━━━━━━━━━━━━━━━━━━━━━━━\u001b[0m \u001b[32m77.9/77.9 kB\u001b[0m \u001b[31m8.2 MB/s\u001b[0m eta \u001b[36m0:00:00\u001b[0m\n",
            "\u001b[2K     \u001b[90m━━━━━━━━━━━━━━━━━━━━━━━━━━━━━━━━━━━━━━━━\u001b[0m \u001b[32m58.3/58.3 kB\u001b[0m \u001b[31m7.3 MB/s\u001b[0m eta \u001b[36m0:00:00\u001b[0m\n",
            "\u001b[?25h"
          ]
        }
      ]
    },
    {
      "cell_type": "code",
      "execution_count": 6,
      "metadata": {
        "id": "IrDz7Ru8yzIf"
      },
      "outputs": [],
      "source": [
        "api_key = \"sk-********\" ## You must change this to actual API key distributed during"
      ]
    },
    {
      "cell_type": "code",
      "source": [
        "from datasets import load_dataset\n",
        "\n",
        "dataset = load_dataset('simecek/synczech50', split='train')\n",
        "#dataset = load_dataset('simecek/mlprague', split='train').shuffle().select(range(50))\n",
        "\n",
        "dataset"
      ],
      "metadata": {
        "colab": {
          "base_uri": "https://localhost:8080/"
        },
        "id": "Or-fIghTy2iR",
        "outputId": "81bb78de-9b65-4753-d021-c77cdca4200d"
      },
      "execution_count": 2,
      "outputs": [
        {
          "output_type": "execute_result",
          "data": {
            "text/plain": [
              "Dataset({\n",
              "    features: ['question', 'optionA', 'optionB', 'optionC', 'optionD', 'solution'],\n",
              "    num_rows: 50\n",
              "})"
            ]
          },
          "metadata": {},
          "execution_count": 2
        }
      ]
    },
    {
      "cell_type": "code",
      "source": [
        "dataset[0]"
      ],
      "metadata": {
        "colab": {
          "base_uri": "https://localhost:8080/"
        },
        "id": "TRgk42A3Tn7i",
        "outputId": "eb751524-9714-4381-e06b-7a35fd465d71"
      },
      "execution_count": 3,
      "outputs": [
        {
          "output_type": "execute_result",
          "data": {
            "text/plain": [
              "{'question': 'Co je hlavní město České republiky?',\n",
              " 'optionA': 'Brno',\n",
              " 'optionB': 'Praha',\n",
              " 'optionC': 'Ostrava',\n",
              " 'optionD': 'Plzeň',\n",
              " 'solution': 'B'}"
            ]
          },
          "metadata": {},
          "execution_count": 3
        }
      ]
    },
    {
      "cell_type": "code",
      "source": [
        "def get_prompt(x):\n",
        "    question, options = x['question'], (x['optionA'], x['optionB'], x['optionC'], x['optionD'])\n",
        "    text = f\"\"\"Which option A/B/C/D is the best answer for the question. Answer with one letter, no explanation.\n",
        "\n",
        "Question (in Czech): {question}\n",
        "\n",
        "Options:\n",
        "A) {options[0]}\n",
        "B) {options[1]}\n",
        "C) {options[2]}\n",
        "D) {options[3]}\n",
        "\n",
        "Answer (just 1 letter, A/B/C/D):\"\"\"\n",
        "    return text\n",
        "\n",
        "prompts = [get_prompt(x) for x in dataset]\n",
        "\n",
        "print(prompts[0])"
      ],
      "metadata": {
        "colab": {
          "base_uri": "https://localhost:8080/"
        },
        "id": "IglYyBTYy--Y",
        "outputId": "b72fd8a2-a430-4df1-c8c0-613ba5f710c3"
      },
      "execution_count": 4,
      "outputs": [
        {
          "output_type": "stream",
          "name": "stdout",
          "text": [
            "Which option A/B/C/D is the best answer for the question. Answer with one letter, no explanation.\n",
            "\n",
            "Question (in Czech): Co je hlavní město České republiky?\n",
            "\n",
            "Options:\n",
            "A) Brno\n",
            "B) Praha\n",
            "C) Ostrava\n",
            "D) Plzeň\n",
            "\n",
            "Answer (just 1 letter, A/B/C/D):\n"
          ]
        }
      ]
    },
    {
      "cell_type": "code",
      "source": [
        "from openai import OpenAI\n",
        "\n",
        "client = OpenAI(\n",
        "    api_key=api_key,\n",
        ")"
      ],
      "metadata": {
        "id": "RWNvyNN31TaE"
      },
      "execution_count": 7,
      "outputs": []
    },
    {
      "cell_type": "code",
      "source": [
        "def get_answer(prompt):\n",
        "\n",
        "    response = client.chat.completions.create(\n",
        "      model=\"gpt-3.5-turbo-0125\",\n",
        "      messages=[\n",
        "        {\"role\": \"system\", \"content\": \"You are a helpful assistant.\"},\n",
        "        {\"role\": \"user\", \"content\": prompt}\n",
        "      ],\n",
        "      temperature=0,\n",
        "      max_tokens=3)\n",
        "\n",
        "    return response.choices[0].message.content.strip().upper()[:1]\n",
        "\n",
        "\n",
        "get_answer(prompts[40])\n"
      ],
      "metadata": {
        "colab": {
          "base_uri": "https://localhost:8080/",
          "height": 36
        },
        "id": "OBzvxfyO4M3-",
        "outputId": "092cf92b-e347-4022-cf2a-714fdd2b32f6"
      },
      "execution_count": 8,
      "outputs": [
        {
          "output_type": "execute_result",
          "data": {
            "text/plain": [
              "'C'"
            ],
            "application/vnd.google.colaboratory.intrinsic+json": {
              "type": "string"
            }
          },
          "metadata": {},
          "execution_count": 8
        }
      ]
    },
    {
      "cell_type": "code",
      "source": [
        "from tqdm.notebook import tqdm\n",
        "\n",
        "answers = []\n",
        "\n",
        "for prompt in tqdm(prompts):\n",
        "  a = get_answer(prompt)\n",
        "  answers.append(a)\n"
      ],
      "metadata": {
        "colab": {
          "base_uri": "https://localhost:8080/",
          "height": 49,
          "referenced_widgets": [
            "828b2460d6224e05a20c61f609a28e63",
            "0e476df68fc34e84b8203946ffe53dbd",
            "71f23228a9714066991d63efcf9ebf57",
            "ae7d1898459342828bda1d477e41762d",
            "1d16f75935ea4c219e7f55c85a8e244d",
            "c37200a1d2474853aae9fc31fd247291",
            "7016a5c13f9247d2a5817daecf291033",
            "aa0cdbfce13c490494fd097f6bb09341",
            "0a7328175015404382d2bc4eddf474da",
            "132ebc069c774ee8aed2891834c4baa3",
            "cb6d03feefae44c8b1543ff5fbbb1f9d"
          ]
        },
        "id": "DThee-xlzhER",
        "outputId": "1ee2da97-fd58-45d5-aa29-663d45e2dd79"
      },
      "execution_count": 9,
      "outputs": [
        {
          "output_type": "display_data",
          "data": {
            "text/plain": [
              "  0%|          | 0/50 [00:00<?, ?it/s]"
            ],
            "application/vnd.jupyter.widget-view+json": {
              "version_major": 2,
              "version_minor": 0,
              "model_id": "828b2460d6224e05a20c61f609a28e63"
            }
          },
          "metadata": {}
        }
      ]
    },
    {
      "cell_type": "code",
      "source": [
        "correct = 0\n",
        "\n",
        "for answer, solution in zip(answers, dataset['solution']):\n",
        "  if answer == solution:\n",
        "    correct += 1\n",
        "\n",
        "# 80% for GPT3.5 (11 mistakes)\n",
        "# 94% for GPT4 (3 mistakes)\n",
        "correct / len(answers)"
      ],
      "metadata": {
        "colab": {
          "base_uri": "https://localhost:8080/"
        },
        "id": "TL5w0IrM0GZC",
        "outputId": "72b60e31-1ebc-41bf-e6e7-630a388f4b52"
      },
      "execution_count": 11,
      "outputs": [
        {
          "output_type": "execute_result",
          "data": {
            "text/plain": [
              "0.8"
            ]
          },
          "metadata": {},
          "execution_count": 11
        }
      ]
    },
    {
      "cell_type": "code",
      "source": [
        "# List the mistakes\n",
        "\n",
        "for answer, x in zip(answers, dataset):\n",
        "  if answer != x['solution']:\n",
        "    print(answer, str(x))\n"
      ],
      "metadata": {
        "colab": {
          "base_uri": "https://localhost:8080/"
        },
        "id": "2yfrgMLS7QCR",
        "outputId": "c4197dfb-fb9b-4692-91ce-de3058858dca"
      },
      "execution_count": 13,
      "outputs": [
        {
          "output_type": "stream",
          "name": "stdout",
          "text": [
            "C {'question': 'Pokud máte 5 jablek a dáte příteli 2, kolik jablek vám zůstane?', 'optionA': '2', 'optionB': '3', 'optionC': '4', 'optionD': '5', 'solution': 'B'}\n",
            "B {'question': \"Který spisovatel napsal 'Báječná léta pod psa'?\", 'optionA': 'Milan Kundera', 'optionB': 'Bohumil Hrabal', 'optionC': 'Michal Viewegh', 'optionD': 'Ivan Klíma', 'solution': 'C'}\n",
            "A {'question': 'Pokud v pondělí bylo 3. ledna, jaké datum bude následující pondělí?', 'optionA': '9. ledna', 'optionB': '10. ledna', 'optionC': '8. ledna', 'optionD': '7. ledna', 'solution': 'B'}\n",
            "A {'question': 'Které zvíře je národním symbolem České republiky?', 'optionA': 'Orel', 'optionB': 'Lev', 'optionC': 'Kůň', 'optionD': 'Medvěd', 'solution': 'B'}\n",
            "D {'question': 'Co je výsledkem výrazu 100 - (2*5)^2?', 'optionA': '0', 'optionB': '50', 'optionC': '75', 'optionD': '25', 'solution': 'A'}\n",
            "B {'question': 'Jaký je název klasické české pohádky o třech princích, kteří hledají svá srdce?', 'optionA': 'Tři veteráni', 'optionB': 'Tři oříšky pro Popelku', 'optionC': 'Jak se budí princezny', 'optionD': 'Tři bratři', 'solution': 'D'}\n",
            "A {'question': 'Jakým směrem teče Vltava?', 'optionA': 'Ze západu na východ', 'optionB': 'Z východu na západ', 'optionC': 'Z jihu na sever', 'optionD': 'Ze severu na jih', 'solution': 'C'}\n",
            "A {'question': 'Jakým směrem teče řeka Morava?', 'optionA': 'Od západu k východu', 'optionB': 'Od severu k jihu', 'optionC': 'Od východu na západ', 'optionD': 'Od jihu k severu', 'solution': 'B'}\n",
            "A {'question': 'Kdo je autorem Pražského orloje?', 'optionA': 'Petr Parléř', 'optionB': 'Jan Žižka', 'optionC': 'Mikuláš z Kadaně', 'optionD': 'Mistr Hanuš', 'solution': 'D'}\n",
            "A {'question': 'Který hrad je známý díky spojení s Albrechtem z Valdštejna?', 'optionA': 'Karlštejn', 'optionB': 'Český Krumlov', 'optionC': 'Bezděz', 'optionD': 'Křivoklát', 'solution': 'C'}\n"
          ]
        }
      ]
    },
    {
      "cell_type": "code",
      "source": [],
      "metadata": {
        "id": "brM50gEIVhNo"
      },
      "execution_count": null,
      "outputs": []
    }
  ]
}